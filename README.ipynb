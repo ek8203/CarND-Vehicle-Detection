{
 "cells": [
  {
   "cell_type": "markdown",
   "metadata": {},
   "source": [
    "### Sefl-Driving Car Nanodegree Program. Term 1\n",
    "<img style=\"float: left;\" src=\"https://s3.amazonaws.com/udacity-sdc/github/shield-carnd.svg\">"
   ]
  },
  {
   "cell_type": "markdown",
   "metadata": {},
   "source": [
    "## Project 5: Vehicle Detection and Tracking"
   ]
  },
  {
   "cell_type": "markdown",
   "metadata": {},
   "source": [
    "### Overview\n",
    "---\n",
    "The goal of this project is to create a software pipeline to identify vehicles in a video from a front-facing camera on a car.\n",
    "\n",
    "The project includes following procedures:\n",
    "* Perform a [Histogram of Oriented Gradients (HOG)](http://scikit-image.org/docs/dev/auto_examples/features_detection/plot_hog.html) feature extraction on a labeled training set of images and train a classifier Linear SVM classifier\n",
    "* Apply a color transform and append binned color features, as well as histograms of color, to your HOG feature vector (optionally).\n",
    "* Normalize extracted features and randomize a selection for training and testing.\n",
    "* Implement a sliding-window technique and use the trained classifier to search for vehicles in images.\n",
    "* Run the pipeline on a video stream (start with the [test_video.mp4](test_video.mp4) and later implement on full [project_video.mp4](project_video.mp4) and create a heat map of recurring detections frame by frame to reject outliers and follow detected vehicles.\n",
    "* Estimate a bounding box for vehicles detected.\n",
    "\n",
    "A detail witeup of the projects can be found in [writeup_report.md](writeup_report.md) document."
   ]
  },
  {
   "cell_type": "markdown",
   "metadata": {},
   "source": [
    "### Project directory content:\n",
    "\n",
    "* [README.md](README.md) - This file.\n",
    "* [vehicle_detection.ipynb](vehicle_detection.ipynb) -  IPython Jupyter notebook with the project code.\n",
    "* [p5lib/](p5lib/) folder - Python modules imported by the notebook:  \n",
    "    * [features.py](p5lib/features.py) - a module with feature extraction functions\n",
    "    * [detection.py](p5lib/detection.py) -a module with vehicle detection functions \n",
    "* [writeup_report.md](writeup_report.md) - The project writeup - a markdown file that includes the [rubric](https://review.udacity.com/#!/rubrics/513/view) points as well as description of how each point was addressed in the project.\n",
    "* [project_video_output.mp4](project_video_output.mp4) - The final video output.\n",
    "* [output_images/](output_images/) - A folder with examples of the output from each stage of the processing pipeline "
   ]
  },
  {
   "cell_type": "markdown",
   "metadata": {},
   "source": [
    "### Project Environment\n",
    "\n",
    "The project environment was created with [CarND Term1 Starter Kit](https://github.com/udacity/CarND-Term1-Starter-Kit)."
   ]
  }
 ],
 "metadata": {
  "kernelspec": {
   "display_name": "Python 3",
   "language": "python",
   "name": "python3"
  },
  "language_info": {
   "codemirror_mode": {
    "name": "ipython",
    "version": 3
   },
   "file_extension": ".py",
   "mimetype": "text/x-python",
   "name": "python",
   "nbconvert_exporter": "python",
   "pygments_lexer": "ipython3",
   "version": "3.5.2"
  },
  "widgets": {
   "state": {},
   "version": "1.1.2"
  }
 },
 "nbformat": 4,
 "nbformat_minor": 2
}
